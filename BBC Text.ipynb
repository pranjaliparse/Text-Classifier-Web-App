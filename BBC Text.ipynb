{
 "cells": [
  {
   "cell_type": "code",
   "execution_count": 1,
   "metadata": {},
   "outputs": [
    {
     "name": "stdout",
     "output_type": "stream",
     "text": [
      "(2225, 2)\n"
     ]
    }
   ],
   "source": [
    "import pandas\n",
    "import matplotlib.pyplot as plt\n",
    "import seaborn as sea\n",
    "import numpy as np\n",
    "from sklearn.metrics import classification_report\n",
    "filename = 'bbc-text.csv'\n",
    "data = pandas.read_csv(filename)\n",
    "print(data.shape)\n",
    "Y=data.category\n",
    "X=data.text\n",
    "Xtrain=np.array(X[0:1780])\n",
    "Ytrain=np.array(Y[0:1780])\n",
    "Xtest=np.array(X[1780:2225])\n",
    "Ytest=np.array(Y[1780:2225])"
   ]
  },
  {
   "cell_type": "code",
   "execution_count": 2,
   "metadata": {},
   "outputs": [
    {
     "data": {
      "image/png": "[encoded data removed]",
      "text/plain": [
       "<Figure size 576x432 with 1 Axes>"
      ]
     },
     "metadata": {
      "needs_background": "light"
     },
     "output_type": "display_data"
    }
   ],
   "source": [
    "import matplotlib.pyplot as plt\n",
    "fig = plt.figure(figsize=(8,6))\n",
    "data.groupby('category').text.count().plot.bar(ylim=0)\n",
    "plt.show()"
   ]
  },
  {
   "cell_type": "code",
   "execution_count": 3,
   "metadata": {},
   "outputs": [
    {
     "data": {
      "text/plain": [
       "(2225, 14415)"
      ]
     },
     "execution_count": 3,
     "metadata": {},
     "output_type": "execute_result"
    }
   ],
   "source": [
    "#The classifiers and learning algorithms can not directly process the text documents in their original form, as most of them\n",
    "#expect numerical feature vectors with a fixed size rather than the raw text documents with variable length.\n",
    "#Therefore, during the preprocessing step, the texts are converted to a more manageable representation.\n",
    "\n",
    "#One common approach for extracting features from text is to use the bag of words model: a model where for each document, \n",
    "#a complaint narrative in our case, the presence (and often the frequency) of words is taken into consideration, \n",
    "#but the order in which they occur is ignored.\n",
    "\n",
    "#Specifically, for each term in our dataset, we will calculate a measure called Term Frequency, \n",
    "#Inverse Document Frequency, abbreviated to tf-idf. We will use sklearn.feature_extraction.text.TfidfVectorizer \n",
    "#to calculate a tf-idf vector for each of consumer complaint narratives:\n",
    "\n",
    "# --> sublinear_df is set to True to use a logarithmic form for frequency.\n",
    "# --> min_df is the minimum numbers of documents a word must be present in to be kept.\n",
    "# --> norm is set to l2, to ensure all our feature vectors have a euclidian norm of 1.\n",
    "# --> ngram_range is set to (1, 2) to indicate that we want to consider both unigrams and bigrams.\n",
    "# --> stop_words is set to \"english\" to remove all common pronouns (\"a\", \"the\", ...) to reduce the number of noisy features.\n",
    "\n",
    "from sklearn.feature_extraction.text import TfidfVectorizer\n",
    "tfidf = TfidfVectorizer(sublinear_tf=True, min_df=5, norm='l2', encoding='latin-1', ngram_range=(1, 2), stop_words='english')\n",
    "features = tfidf.fit_transform(data.text).toarray()\n",
    "labels = data.category\n",
    "features.shape\n",
    "\n",
    "#Now, each of 2225 text sample is represented by 14415 features, \n",
    "#representing the tf-idf score for different unigrams and bigrams"
   ]
  },
  {
   "cell_type": "code",
   "execution_count": 4,
   "metadata": {},
   "outputs": [],
   "source": [
    "from sklearn.model_selection import train_test_split\n",
    "from sklearn.feature_extraction.text import CountVectorizer\n",
    "from sklearn.feature_extraction.text import TfidfTransformer\n",
    "from sklearn.naive_bayes import MultinomialNB\n",
    "count_vect = CountVectorizer()\n",
    "X_train_counts = count_vect.fit_transform(Xtrain)\n",
    "tfidf_transformer = TfidfTransformer()\n",
    "X_train_tfidf = tfidf_transformer.fit_transform(X_train_counts)\n",
    "clf = MultinomialNB().fit(X_train_tfidf, Ytrain)"
   ]
  },
  {
   "cell_type": "code",
   "execution_count": 6,
   "metadata": {},
   "outputs": [
    {
     "name": "stdout",
     "output_type": "stream",
     "text": [
      "  (0, 1)\t1\n",
      "  (0, 176)\t1\n",
      "  (0, 209)\t1\n",
      "  (0, 429)\t1\n",
      "  (0, 800)\t1\n",
      "  (0, 1956)\t1\n",
      "  (0, 1983)\t1\n",
      "  (0, 2036)\t1\n",
      "  (0, 2196)\t2\n",
      "  (0, 2491)\t1\n",
      "  (0, 2794)\t1\n",
      "  (0, 2845)\t1\n",
      "  (0, 2932)\t1\n",
      "  (0, 3222)\t1\n",
      "  (0, 3297)\t3\n",
      "  (0, 3383)\t3\n",
      "  (0, 3544)\t1\n",
      "  (0, 3568)\t1\n",
      "  (0, 3923)\t1\n",
      "  (0, 3938)\t2\n",
      "  (0, 4504)\t1\n",
      "  (0, 4535)\t1\n",
      "  (0, 4865)\t1\n",
      "  (0, 5349)\t1\n",
      "  (0, 5389)\t1\n",
      "  :\t:\n",
      "  (444, 24326)\t1\n",
      "  (444, 24346)\t1\n",
      "  (444, 24358)\t3\n",
      "  (444, 24375)\t1\n",
      "  (444, 24558)\t3\n",
      "  (444, 24914)\t1\n",
      "  (444, 25150)\t2\n",
      "  (444, 25415)\t1\n",
      "  (444, 25633)\t2\n",
      "  (444, 25837)\t1\n",
      "  (444, 25881)\t1\n",
      "  (444, 26150)\t2\n",
      "  (444, 26201)\t3\n",
      "  (444, 26256)\t1\n",
      "  (444, 26344)\t2\n",
      "  (444, 26361)\t1\n",
      "  (444, 26452)\t1\n",
      "  (444, 26468)\t1\n",
      "  (444, 26529)\t1\n",
      "  (444, 26562)\t1\n",
      "  (444, 26599)\t1\n",
      "  (444, 26610)\t1\n",
      "  (444, 26742)\t2\n",
      "  (444, 26878)\t2\n",
      "  (444, 26921)\t1\n",
      "               precision    recall  f1-score   support\n",
      "\n",
      "     business       0.92      0.96      0.94       106\n",
      "entertainment       1.00      0.65      0.79        66\n",
      "     politics       0.88      0.98      0.93        86\n",
      "        sport       0.90      1.00      0.95       101\n",
      "         tech       0.96      0.94      0.95        86\n",
      "\n",
      "    micro avg       0.92      0.92      0.92       445\n",
      "    macro avg       0.93      0.91      0.91       445\n",
      " weighted avg       0.93      0.92      0.92       445\n",
      "\n"
     ]
    }
   ],
   "source": [
    "y=(clf.predict(count_vect.transform(Xtest)))\n",
    "print(classification_report(Ytest, y))"
   ]
  },
  {
   "cell_type": "code",
   "execution_count": 8,
   "metadata": {},
   "outputs": [],
   "source": [
    "#Training model\n",
    "X_train_counts1 = count_vect.fit_transform(X)\n",
    "X_train_tfidf1 = tfidf_transformer.fit_transform(X_train_counts1)\n",
    "mnb= MultinomialNB().fit(X_train_tfidf1, Y)"
   ]
  },
  {
   "cell_type": "code",
   "execution_count": 10,
   "metadata": {},
   "outputs": [],
   "source": [
    "import pickle\n",
    "#allows to serialize python object into a file\n",
    "with open('mnb1_textclassification_pickle','wb') as f:\n",
    "    pickle.dump(mnb,f)\n",
    "with open('count_textclassification_pickle','wb') as f1:\n",
    "    pickle.dump(count_vect,f1)"
   ]
  }
 ],
 "metadata": {
  "kernelspec": {
   "display_name": "Python 3",
   "language": "python",
   "name": "python3"
  },
  "language_info": {
   "codemirror_mode": {
    "name": "ipython",
    "version": 3
   },
   "file_extension": ".py",
   "mimetype": "text/x-python",
   "name": "python",
   "nbconvert_exporter": "python",
   "pygments_lexer": "ipython3",
   "version": "3.7.3"
  }
 },
 "nbformat": 4,
 "nbformat_minor": 2
}
